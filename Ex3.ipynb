{
  "nbformat": 4,
  "nbformat_minor": 0,
  "metadata": {
    "kernelspec": {
      "display_name": "Python 3",
      "language": "python",
      "name": "python3"
    },
    "language_info": {
      "codemirror_mode": {
        "name": "ipython",
        "version": 3
      },
      "file_extension": ".py",
      "mimetype": "text/x-python",
      "name": "python",
      "nbconvert_exporter": "python",
      "pygments_lexer": "ipython3",
      "version": "3.7.3"
    },
    "learntools_metadata": {
      "lesson_index": 2,
      "type": "exercise"
    },
    "colab": {
      "name": "Ex3.ipynb",
      "provenance": [],
      "include_colab_link": true
    }
  },
  "cells": [
    {
      "cell_type": "markdown",
      "metadata": {
        "id": "view-in-github",
        "colab_type": "text"
      },
      "source": [
        "<a href=\"https://colab.research.google.com/github/paulabhishek7777/Assignment_UNP_5Septembr2021/blob/main/Ex3.ipynb\" target=\"_parent\"><img src=\"https://colab.research.google.com/assets/colab-badge.svg\" alt=\"Open In Colab\"/></a>"
      ]
    },
    {
      "cell_type": "markdown",
      "metadata": {
        "id": "jzOCbbk_LTYH"
      },
      "source": [
        "In this exercise, you'll put to work what you have learned about booleans and conditionals.\n",
        "\n",
        "To get started, **run the setup code below** before writing your own code (and if you leave this notebook and come back later, don't forget to run the setup code again)."
      ]
    },
    {
      "cell_type": "code",
      "metadata": {
        "id": "dXA8BVuELTYR"
      },
      "source": [
        "# SETUP - Refer to Ex 1\n",
        "from learntools.core import binder; binder.bind(globals())\n",
        "from learntools.python.ex3 import *\n",
        "print('Setup complete.')"
      ],
      "execution_count": null,
      "outputs": []
    },
    {
      "cell_type": "code",
      "metadata": {
        "colab": {
          "base_uri": "https://localhost:8080/"
        },
        "id": "8a6sBwkOLmM_",
        "outputId": "6a5e01a1-7d90-4c9c-f305-f3e323e4c33f"
      },
      "source": [
        "!pip install git+https://github.com/ML-Challenge/learntools.git\n",
        "from learntools.core import binder; binder.bind(globals())\n",
        "from learntools.python.ex3 import *\n",
        "print(\"setup complete!\")"
      ],
      "execution_count": 2,
      "outputs": [
        {
          "output_type": "stream",
          "name": "stdout",
          "text": [
            "Collecting git+https://github.com/ML-Challenge/learntools.git\n",
            "  Cloning https://github.com/ML-Challenge/learntools.git to /tmp/pip-req-build-0hl3059e\n",
            "  Running command git clone -q https://github.com/ML-Challenge/learntools.git /tmp/pip-req-build-0hl3059e\n"
          ]
        },
        {
          "output_type": "stream",
          "name": "stderr",
          "text": [
            "WARNING:root:Ignoring repeated attempt to bind to globals\n"
          ]
        },
        {
          "output_type": "stream",
          "name": "stdout",
          "text": [
            "setup complete!\n"
          ]
        }
      ]
    },
    {
      "cell_type": "markdown",
      "metadata": {
        "id": "2DcSrErpLTYU"
      },
      "source": [
        "# 1.\n",
        "\n",
        "Many programming languages have [`sign`](https://en.wikipedia.org/wiki/Sign_function) available as a built-in function. Python doesn't, but we can define our own!\n",
        "\n",
        "In the cell below, define a function called `sign` which takes a numerical argument and returns -1 if it's negative, 1 if it's positive, and 0 if it's 0."
      ]
    },
    {
      "cell_type": "code",
      "metadata": {
        "id": "sqlyVwpwLTYV"
      },
      "source": [
        "# Your code goes here. Define a function called 'sign'\n",
        "def sign(x):\n",
        "    if x > 0:\n",
        "        return 1\n",
        "    elif x < 0:\n",
        "        return -1\n",
        "    else:\n",
        "        return 0\n",
        "\n",
        "# Check your answer\n",
        "q1.check()"
      ],
      "execution_count": null,
      "outputs": []
    },
    {
      "cell_type": "code",
      "metadata": {
        "id": "NegEhLb1LTYW"
      },
      "source": [
        "#q1.solution()"
      ],
      "execution_count": null,
      "outputs": []
    },
    {
      "cell_type": "markdown",
      "metadata": {
        "id": "3Ne9vSBpLTYX"
      },
      "source": [
        "# 2.\n",
        "\n",
        "We've decided to add \"logging\" to our `to_smash` function from the previous exercise."
      ]
    },
    {
      "cell_type": "code",
      "metadata": {
        "id": "wpkbLQQrLTYY"
      },
      "source": [
        "def to_smash(total_candies):\n",
        "    \"\"\"Return the number of leftover candies that must be smashed after distributing\n",
        "    the given number of candies evenly between 3 friends.\n",
        "    \n",
        "    >>> to_smash(91)\n",
        "    1\n",
        "    \"\"\"\n",
        "    print(\"Splitting\", total_candies, \"candies\")\n",
        "    return total_candies % 3\n",
        "\n",
        "to_smash(91)"
      ],
      "execution_count": null,
      "outputs": []
    },
    {
      "cell_type": "markdown",
      "metadata": {
        "id": "sIUdFlyULTYa"
      },
      "source": [
        "What happens if we call it with `total_candies = 1`?"
      ]
    },
    {
      "cell_type": "code",
      "metadata": {
        "id": "WQDR0M1jLTYb"
      },
      "source": [
        "to_smash(1)"
      ],
      "execution_count": null,
      "outputs": []
    },
    {
      "cell_type": "markdown",
      "metadata": {
        "id": "S4sdrCX1LTYc"
      },
      "source": [
        "That isn't great grammar!\n",
        "\n",
        "Modify the definition in the cell below to correct the grammar of our print statement. (If there's only one candy, we should use the singular \"candy\" instead of the plural \"candies\")"
      ]
    },
    {
      "cell_type": "code",
      "metadata": {
        "colab": {
          "base_uri": "https://localhost:8080/"
        },
        "id": "8-5MHJQ-LTYd",
        "outputId": "8aa0041f-0011-4d5f-9aa9-34e0c7f20e4f"
      },
      "source": [
        "def to_smash(total_candies):\n",
        "    \"\"\"Return the number of leftover candies that must be smashed after distributing\n",
        "    the given number of candies evenly between 3 friends.\n",
        "    \n",
        "    >>> to_smash(91)\n",
        "    1\n",
        "    \"\"\"\n",
        "    if total_candies == 1:\n",
        "      print(\"Splitting 1 candy\")\n",
        "    else:\n",
        "      print(\"Splitting\", total_candies, \"candies\")\n",
        "\n",
        "    return total_candies % 3\n",
        "\n",
        "to_smash(91)\n",
        "to_smash(1)"
      ],
      "execution_count": 7,
      "outputs": [
        {
          "output_type": "stream",
          "name": "stdout",
          "text": [
            "Splitting 91 candies\n",
            "Splitting 1 candy\n"
          ]
        },
        {
          "output_type": "execute_result",
          "data": {
            "text/plain": [
              "1"
            ]
          },
          "metadata": {},
          "execution_count": 7
        }
      ]
    },
    {
      "cell_type": "markdown",
      "metadata": {
        "id": "xXrCX-VNLTYe"
      },
      "source": [
        "To get credit for completing this problem, and to see the official answer, run the code cell below."
      ]
    },
    {
      "cell_type": "code",
      "metadata": {
        "id": "j-U4wuVNLTYe"
      },
      "source": [
        "# Check your answer (Run this code cell to receive credit!)\n",
        "q2.solution()"
      ],
      "execution_count": null,
      "outputs": []
    },
    {
      "cell_type": "markdown",
      "metadata": {
        "id": "rl_hllVZLTYf"
      },
      "source": [
        "# 3. <span title=\"A bit spicy\" style=\"color: darkgreen \">🌶️</span>\n",
        "\n",
        "In the tutorial, we talked about deciding whether we're prepared for the weather. I said that I'm safe from today's weather if...\n",
        "- I have an umbrella...\n",
        "- or if the rain isn't too heavy and I have a hood...\n",
        "- otherwise, I'm still fine unless it's raining *and* it's a workday\n",
        "\n",
        "The function below uses our first attempt at turning this logic into a Python expression. I claimed that there was a bug in that code. Can you find it?\n",
        "\n",
        "To prove that `prepared_for_weather` is buggy, come up with a set of inputs where either:\n",
        "- the function returns `False` (but should have returned `True`), or\n",
        "- the function returned `True` (but should have returned `False`).\n",
        "\n",
        "To get credit for completing this question, your code should return a <font color='#33cc33'>Correct</font> result."
      ]
    },
    {
      "cell_type": "code",
      "metadata": {
        "id": "5-47LgtFLTYg"
      },
      "source": [
        "def prepared_for_weather(have_umbrella, rain_level, have_hood, is_workday):\n",
        "    # Don't change this code. Our goal is just to find the bug, not fix it!\n",
        "    return have_umbrella or rain_level < 5 and have_hood or not rain_level > 0 and is_workday\n",
        "\n",
        "# Change the values of these inputs so they represent a case where prepared_for_weather\n",
        "# returns the wrong answer.\n",
        "have_umbrella = True\n",
        "rain_level = 0.0\n",
        "have_hood = True\n",
        "is_workday = True\n",
        "\n",
        "# Check what the function returns given the current values of the variables above\n",
        "actual = prepared_for_weather(have_umbrella, rain_level, have_hood, is_workday)\n",
        "print(actual)\n",
        "\n",
        "# Check your answer\n",
        "q3.check()"
      ],
      "execution_count": null,
      "outputs": []
    },
    {
      "cell_type": "code",
      "metadata": {
        "id": "YVPeBYCFLTYh"
      },
      "source": [
        "#q3.hint()\n",
        "#q3.solution()"
      ],
      "execution_count": null,
      "outputs": []
    },
    {
      "cell_type": "markdown",
      "metadata": {
        "id": "RYaUgehcLTYh"
      },
      "source": [
        "# 4.\n",
        "\n",
        "The function `is_negative` below is implemented correctly - it returns True if the given number is negative and False otherwise.\n",
        "\n",
        "However, it's more verbose than it needs to be. We can actually reduce the number of lines of code in this function by *75%* while keeping the same behaviour. \n",
        "\n",
        "See if you can come up with an equivalent body that uses just **one line** of code, and put it in the function `concise_is_negative`. (HINT: you don't even need Python's ternary syntax)"
      ]
    },
    {
      "cell_type": "code",
      "metadata": {
        "colab": {
          "base_uri": "https://localhost:8080/",
          "height": 46
        },
        "id": "x8carAPXLTYi",
        "outputId": "3cbd5815-b1e6-46bf-fa70-ec1e4f7850cb"
      },
      "source": [
        "def is_negative(number):\n",
        "    if number < 0:\n",
        "        return True\n",
        "    else:\n",
        "        return False\n",
        "\n",
        "def concise_is_negative(number):\n",
        "  # Your code goes here (try to keep it to one line!)\n",
        "    return number < 0\n",
        "\n",
        "# Check your answer\n",
        "q4.check()"
      ],
      "execution_count": 12,
      "outputs": [
        {
          "output_type": "display_data",
          "data": {
            "application/javascript": [
              "parent.postMessage({\"jupyterEvent\": \"custom.exercise_interaction\", \"data\": {\"outcomeType\": 1, \"valueTowardsCompletion\": 0.2, \"interactionType\": 1, \"questionType\": 2, \"questionId\": \"4_ConciseIsNegative\", \"learnToolsVersion\": \"0.3.4\", \"failureMessage\": \"\", \"exceptionClass\": \"\", \"trace\": \"\"}}, \"*\")"
            ],
            "text/plain": [
              "<IPython.core.display.Javascript object>"
            ]
          },
          "metadata": {}
        },
        {
          "output_type": "display_data",
          "data": {
            "text/markdown": "<span style=\"color:#33cc33\">Correct</span>",
            "text/plain": [
              "Correct"
            ]
          },
          "metadata": {}
        }
      ]
    },
    {
      "cell_type": "code",
      "metadata": {
        "id": "4ayyUfIrLTYi"
      },
      "source": [
        "#q4.hint()\n",
        "#q4.solution()"
      ],
      "execution_count": null,
      "outputs": []
    },
    {
      "cell_type": "markdown",
      "metadata": {
        "id": "GMJNE5PVLTYj"
      },
      "source": [
        "# 5a.\n",
        "\n",
        "The boolean variables `ketchup`, `mustard` and `onion` represent whether a customer wants a particular topping on their hot dog. We want to implement a number of boolean functions that correspond to some yes-or-no questions about the customer's order. For example:"
      ]
    },
    {
      "cell_type": "code",
      "metadata": {
        "id": "Qclg4ghJLTYj"
      },
      "source": [
        "def onionless(ketchup, mustard, onion):\n",
        "    \"\"\"Return whether the customer doesn't want onions.\n",
        "    \"\"\"\n",
        "    return not onion"
      ],
      "execution_count": null,
      "outputs": []
    },
    {
      "cell_type": "code",
      "metadata": {
        "id": "nqG_ia1qLTYk"
      },
      "source": [
        "def wants_all_toppings(ketchup, mustard, onion):\n",
        "    \"\"\"Return whether the customer wants \"the works\" (all 3 toppings)\n",
        "    \"\"\"\n",
        "    return ketchup and mustard and onion  \n",
        "\n",
        "# Check your answer\n",
        "q5.a.check()"
      ],
      "execution_count": null,
      "outputs": []
    },
    {
      "cell_type": "code",
      "metadata": {
        "id": "Zxd5MnQ3LTYk"
      },
      "source": [
        "#q5.a.hint()\n",
        "#q5.a.solution()"
      ],
      "execution_count": null,
      "outputs": []
    },
    {
      "cell_type": "markdown",
      "metadata": {
        "id": "LvoslcbpLTYl"
      },
      "source": [
        "# 5b.\n",
        "\n",
        "For the next function, fill in the body to match the English description in the docstring. "
      ]
    },
    {
      "cell_type": "code",
      "metadata": {
        "id": "WtpY1WpRLTYl"
      },
      "source": [
        "def wants_plain_hotdog(ketchup, mustard, onion):\n",
        "    \"\"\"Return whether the customer wants a plain hot dog with no toppings.\n",
        "    \"\"\"\n",
        "    return not (ketchup or mustard or onion)\n",
        "\n",
        "# Check your answer\n",
        "q5.b.check()"
      ],
      "execution_count": null,
      "outputs": []
    },
    {
      "cell_type": "code",
      "metadata": {
        "id": "1Oba7I7yLTYl"
      },
      "source": [
        "#q5.b.hint()\n",
        "#q5.b.solution()"
      ],
      "execution_count": null,
      "outputs": []
    },
    {
      "cell_type": "markdown",
      "metadata": {
        "id": "xzk9maymLTYm"
      },
      "source": [
        "# 5c.\n",
        "\n",
        "You know what to do: for the next function, fill in the body to match the English description in the docstring."
      ]
    },
    {
      "cell_type": "code",
      "metadata": {
        "id": "L9T0wCE9LTYm"
      },
      "source": [
        "def exactly_one_sauce(ketchup, mustard, onion):\n",
        "    \"\"\"Return whether the customer wants either ketchup or mustard, but not both.\n",
        "    (You may be familiar with this operation under the name \"exclusive or\")\n",
        "    \"\"\"\n",
        "    \n",
        "    return (ketchup and not mustard) or (mustard and not ketchup)\n",
        "    \n",
        "\n",
        "# Check your answer\n",
        "q5.c.check()"
      ],
      "execution_count": null,
      "outputs": []
    },
    {
      "cell_type": "code",
      "metadata": {
        "id": "VbJCsxWtLTYm"
      },
      "source": [
        "#q5.c.hint()\n",
        "#q5.c.solution()"
      ],
      "execution_count": null,
      "outputs": []
    },
    {
      "cell_type": "markdown",
      "metadata": {
        "id": "MiPUMcA3LTYn"
      },
      "source": [
        "# 6. <span title=\"A bit spicy\" style=\"color: darkgreen \">🌶️</span>\n",
        "\n",
        "We’ve seen that calling `bool()` on an integer returns `False` if it’s equal to 0 and `True` otherwise. What happens if we call `int()` on a bool? Try it out in the notebook cell below.\n",
        "\n",
        "Can you take advantage of this to write a succinct function that corresponds to the English sentence \"does the customer want exactly one topping?\"?"
      ]
    },
    {
      "cell_type": "code",
      "metadata": {
        "id": "GeXZ8wGWLTYo"
      },
      "source": [
        "def exactly_one_topping(ketchup, mustard, onion):\n",
        "    \"\"\"Return whether the customer wants exactly one of the three available toppings\n",
        "    on their hot dog.\n",
        "    \"\"\"\n",
        "    return (ketchup + mustard + onion) == 1\n",
        "\n",
        "# Check your answer\n",
        "q6.check()"
      ],
      "execution_count": null,
      "outputs": []
    },
    {
      "cell_type": "code",
      "metadata": {
        "id": "VGy85pLpLTYo"
      },
      "source": [
        "#q6.hint()\n",
        "#q6.solution()"
      ],
      "execution_count": null,
      "outputs": []
    },
    {
      "cell_type": "markdown",
      "metadata": {
        "id": "ZykEJ7xrLTYo"
      },
      "source": [
        "# 7. <span title=\"A bit spicy\" style=\"color: darkgreen \">🌶️</span> (Optional)\n",
        "\n",
        "In this problem we'll be working with a simplified version of [blackjack](https://en.wikipedia.org/wiki/Blackjack) (aka twenty-one). In this version there is one player (who you'll control) and a dealer. Play proceeds as follows:\n",
        "\n",
        "- The player is dealt two face-up cards. The dealer is dealt one face-up card.\n",
        "- The player may ask to be dealt another card ('hit') as many times as they wish. If the sum of their cards exceeds 21, they lose the round immediately.\n",
        "- The dealer then deals additional cards to himself until either:\n",
        "    - the sum of the dealer's cards exceeds 21, in which case the player wins the round\n",
        "    - the sum of the dealer's cards is greater than or equal to 17. If the player's total is greater than the dealer's, the player wins. Otherwise, the dealer wins (even in case of a tie).\n",
        "    \n",
        "When calculating the sum of cards, Jack, Queen, and King count for 10. Aces can count as 1 or 11 (when referring to a player's \"total\" above, we mean the largest total that can be made without exceeding 21. So e.g. A+8 = 19, A+8+8 = 17)\n",
        "\n",
        "For this problem, you'll write a function representing the player's decision-making strategy in this game. We've provided a very unintelligent implementation below:"
      ]
    },
    {
      "cell_type": "code",
      "metadata": {
        "id": "8TiMMiJ5LTYp"
      },
      "source": [
        "def should_hit(dealer_total, player_total, player_low_aces, player_high_aces):\n",
        "    \"\"\"Return True if the player should hit (request another card) given the current game\n",
        "    state, or False if the player should stay.\n",
        "    When calculating a hand's total value, we count aces as \"high\" (with value 11) if doing so\n",
        "    doesn't bring the total above 21, otherwise we count them as low (with value 1). \n",
        "    For example, if the player's hand is {A, A, A, 7}, we will count it as 11 + 1 + 1 + 7,\n",
        "    and therefore set player_total=20, player_low_aces=2, player_high_aces=1.\n",
        "    \"\"\"\n",
        "    player_total=player_total+(player_high_aces*11)+player_low_aces\n",
        "    if (player_total<19):\n",
        "        return True\n",
        "    else:\n",
        "        return False\n",
        "    "
      ],
      "execution_count": 24,
      "outputs": []
    },
    {
      "cell_type": "markdown",
      "metadata": {
        "id": "sYXcy11-LTYp"
      },
      "source": [
        "This very conservative agent *always* sticks with the hand of two cards that they're dealt.\n",
        "\n",
        "We'll be simulating games between your player agent and our own dealer agent by calling your function.\n",
        "\n",
        "Try running the function below to see an example of a simulated game:"
      ]
    },
    {
      "cell_type": "code",
      "metadata": {
        "colab": {
          "base_uri": "https://localhost:8080/"
        },
        "id": "qBGc04czLTYp",
        "outputId": "fff9657a-169e-4174-c03a-108b69619fb4"
      },
      "source": [
        "q7.simulate_one_game()"
      ],
      "execution_count": 25,
      "outputs": [
        {
          "output_type": "stream",
          "name": "stdout",
          "text": [
            "Player starts with 2 and 4 (total = 6)\n",
            "Dealer starts with 4\n",
            "\n",
            "__Player's turn__\n",
            "Player hits and receives 10. (total = 16)\n",
            "Player hits and receives 10. (total = 26)\n",
            "Player busts! Dealer wins.\n"
          ]
        }
      ]
    },
    {
      "cell_type": "markdown",
      "metadata": {
        "id": "2r9HC-58LTYq"
      },
      "source": [
        "The real test of your agent's mettle is their average win rate over many games. Try calling the function below to simulate 50000 games of blackjack (it may take a couple seconds):"
      ]
    },
    {
      "cell_type": "code",
      "metadata": {
        "colab": {
          "base_uri": "https://localhost:8080/"
        },
        "id": "X5Rq218wLTYq",
        "outputId": "342482d3-3548-47b0-e23e-7e8836fb56cc"
      },
      "source": [
        "q7.simulate(n_games=50000)"
      ],
      "execution_count": 26,
      "outputs": [
        {
          "output_type": "stream",
          "name": "stdout",
          "text": [
            "Player won 18047 out of 50000 games (win rate = 36.1%)\n"
          ]
        }
      ]
    },
    {
      "cell_type": "markdown",
      "metadata": {
        "id": "eXx4SkuXLTYq"
      },
      "source": [
        "Our dumb agent that completely ignores the game state still manages to win shockingly often!\n",
        "\n",
        "Try adding some more smarts to the `should_hit` function and see how it affects the results."
      ]
    },
    {
      "cell_type": "code",
      "metadata": {
        "colab": {
          "base_uri": "https://localhost:8080/"
        },
        "id": "KRHfr8sdLTYq",
        "outputId": "5bf1a9bd-dc50-49e8-a29f-e1ceb924408b"
      },
      "source": [
        "def should_hit(dealer_total, player_total, player_low_aces, player_high_aces):\n",
        "    \"\"\"Return True if the player should hit (request another card) given the current game\n",
        "    state, or False if the player should stay.\n",
        "    When calculating a hand's total value, we count aces as \"high\" (with value 11) if doing so\n",
        "    doesn't bring the total above 21, otherwise we count them as low (with value 1). \n",
        "    For example, if the player's hand is {A, A, A, 7}, we will count it as 11 + 1 + 1 + 7,\n",
        "    and therefore set player_total=20, player_low_aces=2, player_high_aces=1.\n",
        "    \"\"\"\n",
        "    player_total=player_total+(player_high_aces*11)+player_low_aces\n",
        "    if (player_total<dealer_total or player_total<17 and dealer_total<17):\n",
        "        return True\n",
        "    else:\n",
        "        return False\n",
        "\n",
        "q7.simulate(n_games=50000)"
      ],
      "execution_count": 27,
      "outputs": [
        {
          "output_type": "stream",
          "name": "stdout",
          "text": [
            "Player won 20174 out of 50000 games (win rate = 40.3%)\n"
          ]
        }
      ]
    }
  ]
}